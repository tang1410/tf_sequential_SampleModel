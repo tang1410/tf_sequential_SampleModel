{
 "cells": [
  {
   "cell_type": "code",
   "execution_count": 1,
   "id": "53874a4b-e1bc-40da-9c85-c6271ae77c09",
   "metadata": {},
   "outputs": [
    {
     "data": {
      "text/html": [
       "<div>\n",
       "<style scoped>\n",
       "    .dataframe tbody tr th:only-of-type {\n",
       "        vertical-align: middle;\n",
       "    }\n",
       "\n",
       "    .dataframe tbody tr th {\n",
       "        vertical-align: top;\n",
       "    }\n",
       "\n",
       "    .dataframe thead th {\n",
       "        text-align: right;\n",
       "    }\n",
       "</style>\n",
       "<table border=\"1\" class=\"dataframe\">\n",
       "  <thead>\n",
       "    <tr style=\"text-align: right;\">\n",
       "      <th></th>\n",
       "      <th>key</th>\n",
       "      <th>fare_amount</th>\n",
       "      <th>pickup_datetime</th>\n",
       "      <th>pickup_longitude</th>\n",
       "      <th>pickup_latitude</th>\n",
       "      <th>dropoff_longitude</th>\n",
       "      <th>dropoff_latitude</th>\n",
       "      <th>passenger_count</th>\n",
       "    </tr>\n",
       "  </thead>\n",
       "  <tbody>\n",
       "    <tr>\n",
       "      <th>0</th>\n",
       "      <td>2009-06-15 17:26:21.0000001</td>\n",
       "      <td>4.5</td>\n",
       "      <td>2009-06-15 17:26:21 UTC</td>\n",
       "      <td>-73.844311</td>\n",
       "      <td>40.721319</td>\n",
       "      <td>-73.841610</td>\n",
       "      <td>40.712278</td>\n",
       "      <td>1</td>\n",
       "    </tr>\n",
       "    <tr>\n",
       "      <th>1</th>\n",
       "      <td>2010-01-05 16:52:16.0000002</td>\n",
       "      <td>16.9</td>\n",
       "      <td>2010-01-05 16:52:16 UTC</td>\n",
       "      <td>-74.016048</td>\n",
       "      <td>40.711303</td>\n",
       "      <td>-73.979268</td>\n",
       "      <td>40.782004</td>\n",
       "      <td>1</td>\n",
       "    </tr>\n",
       "    <tr>\n",
       "      <th>2</th>\n",
       "      <td>2011-08-18 00:35:00.00000049</td>\n",
       "      <td>5.7</td>\n",
       "      <td>2011-08-18 00:35:00 UTC</td>\n",
       "      <td>-73.982738</td>\n",
       "      <td>40.761270</td>\n",
       "      <td>-73.991242</td>\n",
       "      <td>40.750562</td>\n",
       "      <td>2</td>\n",
       "    </tr>\n",
       "    <tr>\n",
       "      <th>3</th>\n",
       "      <td>2012-04-21 04:30:42.0000001</td>\n",
       "      <td>7.7</td>\n",
       "      <td>2012-04-21 04:30:42 UTC</td>\n",
       "      <td>-73.987130</td>\n",
       "      <td>40.733143</td>\n",
       "      <td>-73.991567</td>\n",
       "      <td>40.758092</td>\n",
       "      <td>1</td>\n",
       "    </tr>\n",
       "    <tr>\n",
       "      <th>4</th>\n",
       "      <td>2010-03-09 07:51:00.000000135</td>\n",
       "      <td>5.3</td>\n",
       "      <td>2010-03-09 07:51:00 UTC</td>\n",
       "      <td>-73.968095</td>\n",
       "      <td>40.768008</td>\n",
       "      <td>-73.956655</td>\n",
       "      <td>40.783762</td>\n",
       "      <td>1</td>\n",
       "    </tr>\n",
       "  </tbody>\n",
       "</table>\n",
       "</div>"
      ],
      "text/plain": [
       "                             key  fare_amount          pickup_datetime  \\\n",
       "0    2009-06-15 17:26:21.0000001          4.5  2009-06-15 17:26:21 UTC   \n",
       "1    2010-01-05 16:52:16.0000002         16.9  2010-01-05 16:52:16 UTC   \n",
       "2   2011-08-18 00:35:00.00000049          5.7  2011-08-18 00:35:00 UTC   \n",
       "3    2012-04-21 04:30:42.0000001          7.7  2012-04-21 04:30:42 UTC   \n",
       "4  2010-03-09 07:51:00.000000135          5.3  2010-03-09 07:51:00 UTC   \n",
       "\n",
       "   pickup_longitude  pickup_latitude  dropoff_longitude  dropoff_latitude  \\\n",
       "0        -73.844311        40.721319         -73.841610         40.712278   \n",
       "1        -74.016048        40.711303         -73.979268         40.782004   \n",
       "2        -73.982738        40.761270         -73.991242         40.750562   \n",
       "3        -73.987130        40.733143         -73.991567         40.758092   \n",
       "4        -73.968095        40.768008         -73.956655         40.783762   \n",
       "\n",
       "   passenger_count  \n",
       "0                1  \n",
       "1                1  \n",
       "2                2  \n",
       "3                1  \n",
       "4                1  "
      ]
     },
     "execution_count": 1,
     "metadata": {},
     "output_type": "execute_result"
    }
   ],
   "source": [
    "import tensorflow as tf\n",
    "from tensorflow import keras\n",
    "import pandas as pd\n",
    "\n",
    "# Load the data into a Pandas DataFrame\n",
    "df = pd.read_csv('train.csv')\n",
    "df.head()"
   ]
  },
  {
   "cell_type": "code",
   "execution_count": 2,
   "id": "97e6518c-2006-4dc1-b960-57b111f8db2f",
   "metadata": {},
   "outputs": [
    {
     "name": "stdout",
     "output_type": "stream",
     "text": [
      "Num GPUs Available:  1\n"
     ]
    }
   ],
   "source": [
    "print(\"Num GPUs Available: \", len(tf.config.experimental.list_physical_devices('GPU')))"
   ]
  },
  {
   "cell_type": "code",
   "execution_count": 3,
   "id": "b803fdcb-ae0d-43bb-8593-5404be86091e",
   "metadata": {},
   "outputs": [
    {
     "data": {
      "text/html": [
       "<div>\n",
       "<style scoped>\n",
       "    .dataframe tbody tr th:only-of-type {\n",
       "        vertical-align: middle;\n",
       "    }\n",
       "\n",
       "    .dataframe tbody tr th {\n",
       "        vertical-align: top;\n",
       "    }\n",
       "\n",
       "    .dataframe thead th {\n",
       "        text-align: right;\n",
       "    }\n",
       "</style>\n",
       "<table border=\"1\" class=\"dataframe\">\n",
       "  <thead>\n",
       "    <tr style=\"text-align: right;\">\n",
       "      <th></th>\n",
       "      <th>key</th>\n",
       "      <th>fare_amount</th>\n",
       "      <th>pickup_datetime</th>\n",
       "      <th>pickup_longitude</th>\n",
       "      <th>pickup_latitude</th>\n",
       "      <th>dropoff_longitude</th>\n",
       "      <th>dropoff_latitude</th>\n",
       "      <th>passenger_count</th>\n",
       "    </tr>\n",
       "  </thead>\n",
       "  <tbody>\n",
       "    <tr>\n",
       "      <th>30107768</th>\n",
       "      <td>2013-12-17 23:06:00.000000212</td>\n",
       "      <td>16.5</td>\n",
       "      <td>2013-12-17 23:06:00 UTC</td>\n",
       "      <td>-73.958160</td>\n",
       "      <td>40.733350</td>\n",
       "      <td>-73.997957</td>\n",
       "      <td>40.716922</td>\n",
       "      <td>1</td>\n",
       "    </tr>\n",
       "    <tr>\n",
       "      <th>19161179</th>\n",
       "      <td>2010-08-13 00:12:32.0000004</td>\n",
       "      <td>9.3</td>\n",
       "      <td>2010-08-13 00:12:32 UTC</td>\n",
       "      <td>-73.977288</td>\n",
       "      <td>40.749886</td>\n",
       "      <td>-73.951201</td>\n",
       "      <td>40.779425</td>\n",
       "      <td>1</td>\n",
       "    </tr>\n",
       "    <tr>\n",
       "      <th>24778705</th>\n",
       "      <td>2014-08-08 09:49:26.0000001</td>\n",
       "      <td>5.0</td>\n",
       "      <td>2014-08-08 09:49:26 UTC</td>\n",
       "      <td>-73.979291</td>\n",
       "      <td>40.781670</td>\n",
       "      <td>-73.975894</td>\n",
       "      <td>40.792156</td>\n",
       "      <td>1</td>\n",
       "    </tr>\n",
       "    <tr>\n",
       "      <th>41567408</th>\n",
       "      <td>2009-09-03 08:43:09.0000003</td>\n",
       "      <td>4.9</td>\n",
       "      <td>2009-09-03 08:43:09 UTC</td>\n",
       "      <td>-73.992026</td>\n",
       "      <td>40.749563</td>\n",
       "      <td>-73.997884</td>\n",
       "      <td>40.737705</td>\n",
       "      <td>1</td>\n",
       "    </tr>\n",
       "    <tr>\n",
       "      <th>39437397</th>\n",
       "      <td>2013-01-28 15:50:00.00000070</td>\n",
       "      <td>7.0</td>\n",
       "      <td>2013-01-28 15:50:00 UTC</td>\n",
       "      <td>-73.968825</td>\n",
       "      <td>40.754425</td>\n",
       "      <td>-73.979912</td>\n",
       "      <td>40.761097</td>\n",
       "      <td>2</td>\n",
       "    </tr>\n",
       "  </tbody>\n",
       "</table>\n",
       "</div>"
      ],
      "text/plain": [
       "                                    key  fare_amount          pickup_datetime  \\\n",
       "30107768  2013-12-17 23:06:00.000000212         16.5  2013-12-17 23:06:00 UTC   \n",
       "19161179    2010-08-13 00:12:32.0000004          9.3  2010-08-13 00:12:32 UTC   \n",
       "24778705    2014-08-08 09:49:26.0000001          5.0  2014-08-08 09:49:26 UTC   \n",
       "41567408    2009-09-03 08:43:09.0000003          4.9  2009-09-03 08:43:09 UTC   \n",
       "39437397   2013-01-28 15:50:00.00000070          7.0  2013-01-28 15:50:00 UTC   \n",
       "\n",
       "          pickup_longitude  pickup_latitude  dropoff_longitude  \\\n",
       "30107768        -73.958160        40.733350         -73.997957   \n",
       "19161179        -73.977288        40.749886         -73.951201   \n",
       "24778705        -73.979291        40.781670         -73.975894   \n",
       "41567408        -73.992026        40.749563         -73.997884   \n",
       "39437397        -73.968825        40.754425         -73.979912   \n",
       "\n",
       "          dropoff_latitude  passenger_count  \n",
       "30107768         40.716922                1  \n",
       "19161179         40.779425                1  \n",
       "24778705         40.792156                1  \n",
       "41567408         40.737705                1  \n",
       "39437397         40.761097                2  "
      ]
     },
     "execution_count": 3,
     "metadata": {},
     "output_type": "execute_result"
    }
   ],
   "source": [
    "# Get sample since the data is huge (2m+ data points)\n",
    "df = df.sample(n=10000)\n",
    "df.head()"
   ]
  },
  {
   "cell_type": "code",
   "execution_count": 4,
   "id": "3970ee87-432b-407c-9e55-ebf2a4c9437d",
   "metadata": {},
   "outputs": [
    {
     "data": {
      "text/html": [
       "<div>\n",
       "<style scoped>\n",
       "    .dataframe tbody tr th:only-of-type {\n",
       "        vertical-align: middle;\n",
       "    }\n",
       "\n",
       "    .dataframe tbody tr th {\n",
       "        vertical-align: top;\n",
       "    }\n",
       "\n",
       "    .dataframe thead th {\n",
       "        text-align: right;\n",
       "    }\n",
       "</style>\n",
       "<table border=\"1\" class=\"dataframe\">\n",
       "  <thead>\n",
       "    <tr style=\"text-align: right;\">\n",
       "      <th></th>\n",
       "      <th>key</th>\n",
       "      <th>fare_amount</th>\n",
       "      <th>pickup_datetime</th>\n",
       "      <th>pickup_longitude</th>\n",
       "      <th>pickup_latitude</th>\n",
       "      <th>dropoff_longitude</th>\n",
       "      <th>dropoff_latitude</th>\n",
       "      <th>passenger_count</th>\n",
       "      <th>year</th>\n",
       "      <th>month</th>\n",
       "      <th>day</th>\n",
       "      <th>hour</th>\n",
       "      <th>minute</th>\n",
       "      <th>second</th>\n",
       "    </tr>\n",
       "  </thead>\n",
       "  <tbody>\n",
       "    <tr>\n",
       "      <th>30107768</th>\n",
       "      <td>2013-12-17 23:06:00.000000212</td>\n",
       "      <td>16.5</td>\n",
       "      <td>2013-12-17 23:06:00 UTC</td>\n",
       "      <td>-73.958160</td>\n",
       "      <td>40.733350</td>\n",
       "      <td>-73.997957</td>\n",
       "      <td>40.716922</td>\n",
       "      <td>1</td>\n",
       "      <td>2013</td>\n",
       "      <td>12</td>\n",
       "      <td>17</td>\n",
       "      <td>23</td>\n",
       "      <td>6</td>\n",
       "      <td>0</td>\n",
       "    </tr>\n",
       "    <tr>\n",
       "      <th>19161179</th>\n",
       "      <td>2010-08-13 00:12:32.000000400</td>\n",
       "      <td>9.3</td>\n",
       "      <td>2010-08-13 00:12:32 UTC</td>\n",
       "      <td>-73.977288</td>\n",
       "      <td>40.749886</td>\n",
       "      <td>-73.951201</td>\n",
       "      <td>40.779425</td>\n",
       "      <td>1</td>\n",
       "      <td>2010</td>\n",
       "      <td>8</td>\n",
       "      <td>13</td>\n",
       "      <td>0</td>\n",
       "      <td>12</td>\n",
       "      <td>32</td>\n",
       "    </tr>\n",
       "    <tr>\n",
       "      <th>24778705</th>\n",
       "      <td>2014-08-08 09:49:26.000000100</td>\n",
       "      <td>5.0</td>\n",
       "      <td>2014-08-08 09:49:26 UTC</td>\n",
       "      <td>-73.979291</td>\n",
       "      <td>40.781670</td>\n",
       "      <td>-73.975894</td>\n",
       "      <td>40.792156</td>\n",
       "      <td>1</td>\n",
       "      <td>2014</td>\n",
       "      <td>8</td>\n",
       "      <td>8</td>\n",
       "      <td>9</td>\n",
       "      <td>49</td>\n",
       "      <td>26</td>\n",
       "    </tr>\n",
       "    <tr>\n",
       "      <th>41567408</th>\n",
       "      <td>2009-09-03 08:43:09.000000300</td>\n",
       "      <td>4.9</td>\n",
       "      <td>2009-09-03 08:43:09 UTC</td>\n",
       "      <td>-73.992026</td>\n",
       "      <td>40.749563</td>\n",
       "      <td>-73.997884</td>\n",
       "      <td>40.737705</td>\n",
       "      <td>1</td>\n",
       "      <td>2009</td>\n",
       "      <td>9</td>\n",
       "      <td>3</td>\n",
       "      <td>8</td>\n",
       "      <td>43</td>\n",
       "      <td>9</td>\n",
       "    </tr>\n",
       "    <tr>\n",
       "      <th>39437397</th>\n",
       "      <td>2013-01-28 15:50:00.000000700</td>\n",
       "      <td>7.0</td>\n",
       "      <td>2013-01-28 15:50:00 UTC</td>\n",
       "      <td>-73.968825</td>\n",
       "      <td>40.754425</td>\n",
       "      <td>-73.979912</td>\n",
       "      <td>40.761097</td>\n",
       "      <td>2</td>\n",
       "      <td>2013</td>\n",
       "      <td>1</td>\n",
       "      <td>28</td>\n",
       "      <td>15</td>\n",
       "      <td>50</td>\n",
       "      <td>0</td>\n",
       "    </tr>\n",
       "  </tbody>\n",
       "</table>\n",
       "</div>"
      ],
      "text/plain": [
       "                                   key  fare_amount          pickup_datetime  \\\n",
       "30107768 2013-12-17 23:06:00.000000212         16.5  2013-12-17 23:06:00 UTC   \n",
       "19161179 2010-08-13 00:12:32.000000400          9.3  2010-08-13 00:12:32 UTC   \n",
       "24778705 2014-08-08 09:49:26.000000100          5.0  2014-08-08 09:49:26 UTC   \n",
       "41567408 2009-09-03 08:43:09.000000300          4.9  2009-09-03 08:43:09 UTC   \n",
       "39437397 2013-01-28 15:50:00.000000700          7.0  2013-01-28 15:50:00 UTC   \n",
       "\n",
       "          pickup_longitude  pickup_latitude  dropoff_longitude  \\\n",
       "30107768        -73.958160        40.733350         -73.997957   \n",
       "19161179        -73.977288        40.749886         -73.951201   \n",
       "24778705        -73.979291        40.781670         -73.975894   \n",
       "41567408        -73.992026        40.749563         -73.997884   \n",
       "39437397        -73.968825        40.754425         -73.979912   \n",
       "\n",
       "          dropoff_latitude  passenger_count  year  month  day  hour  minute  \\\n",
       "30107768         40.716922                1  2013     12   17    23       6   \n",
       "19161179         40.779425                1  2010      8   13     0      12   \n",
       "24778705         40.792156                1  2014      8    8     9      49   \n",
       "41567408         40.737705                1  2009      9    3     8      43   \n",
       "39437397         40.761097                2  2013      1   28    15      50   \n",
       "\n",
       "          second  \n",
       "30107768       0  \n",
       "19161179      32  \n",
       "24778705      26  \n",
       "41567408       9  \n",
       "39437397       0  "
      ]
     },
     "execution_count": 4,
     "metadata": {},
     "output_type": "execute_result"
    }
   ],
   "source": [
    "# Extract datetime\n",
    "df['key'] = pd.to_datetime(df['key'])\n",
    "df['year'] = df['key'].dt.year\n",
    "df['month'] = df['key'].dt.month\n",
    "df['day'] = df['key'].dt.day\n",
    "df['hour'] = df['key'].dt.hour\n",
    "df['minute'] = df['key'].dt.minute\n",
    "df['second'] = df['key'].dt.second\n",
    "df.head()"
   ]
  },
  {
   "cell_type": "code",
   "execution_count": 5,
   "id": "ce5559fc-ae90-414f-b1b2-f5d778532fff",
   "metadata": {},
   "outputs": [
    {
     "data": {
      "text/plain": [
       "9998"
      ]
     },
     "execution_count": 5,
     "metadata": {},
     "output_type": "execute_result"
    }
   ],
   "source": [
    "# Filter fare_amount > 0\n",
    "df = df[df['fare_amount'] > 0]\n",
    "len(df)"
   ]
  },
  {
   "cell_type": "code",
   "execution_count": 6,
   "id": "76c0eb53-65ae-4830-9520-e2be33b7217e",
   "metadata": {},
   "outputs": [
    {
     "data": {
      "text/plain": [
       "9958"
      ]
     },
     "execution_count": 6,
     "metadata": {},
     "output_type": "execute_result"
    }
   ],
   "source": [
    "# Filter passenger > 0\n",
    "df = df[df['passenger_count'] > 0]\n",
    "len(df)"
   ]
  },
  {
   "cell_type": "code",
   "execution_count": 7,
   "id": "a3905f39-7be2-470c-baf6-02ee85f476a6",
   "metadata": {},
   "outputs": [],
   "source": [
    "# Set boudaries for pickup and dropoff"
   ]
  },
  {
   "cell_type": "code",
   "execution_count": 8,
   "id": "e71648be-f3e3-4961-8f5c-6975fd42ce78",
   "metadata": {},
   "outputs": [
    {
     "name": "stdout",
     "output_type": "stream",
     "text": [
      "-74.006615\n"
     ]
    }
   ],
   "source": [
    "a = min(df['pickup_latitude'].min(), df['dropoff_latitude'].min())\n",
    "print(a)"
   ]
  },
  {
   "cell_type": "code",
   "execution_count": 9,
   "id": "8a58d439-c741-4276-93fc-93d28881e9d5",
   "metadata": {},
   "outputs": [
    {
     "name": "stdout",
     "output_type": "stream",
     "text": [
      "41.480803\n"
     ]
    }
   ],
   "source": [
    "b = max(df['pickup_latitude'].max(), df['dropoff_latitude'].max())\n",
    "print(b)"
   ]
  },
  {
   "cell_type": "code",
   "execution_count": 10,
   "id": "8469e385-57c1-46a3-9f8a-2feec5239d3f",
   "metadata": {},
   "outputs": [
    {
     "name": "stdout",
     "output_type": "stream",
     "text": [
      "-75.500613\n"
     ]
    }
   ],
   "source": [
    "c = min(df['pickup_longitude'].min(), df['dropoff_longitude'].min())\n",
    "print(c)"
   ]
  },
  {
   "cell_type": "code",
   "execution_count": 11,
   "id": "49feb3c5-849e-429a-953a-5005300cf721",
   "metadata": {},
   "outputs": [
    {
     "name": "stdout",
     "output_type": "stream",
     "text": [
      "40.77653\n"
     ]
    }
   ],
   "source": [
    "d = max(df['pickup_longitude'].max(), df['dropoff_longitude'].max())\n",
    "print(d)"
   ]
  },
  {
   "cell_type": "code",
   "execution_count": 12,
   "id": "b12c70c0-0bf2-4a18-9daa-e7df30e16ea7",
   "metadata": {},
   "outputs": [],
   "source": [
    "def select_within_boundingbox(df,bb):\n",
    "    return(\n",
    "        (df['pickup_longitude'] >= bb[0]) & (df['pickup_longitude'] <= bb[1]) &\n",
    "        (df['pickup_latitude'] >= bb[2]) & (df['pickup_latitude'] <= bb[3]) &\n",
    "        (df['dropoff_longitude'] >= bb[0]) & (df['dropoff_longitude'] <= bb[1]) &\n",
    "        (df['dropoff_latitude'] >= bb[2]) & (df['dropoff_latitude'] <= bb[3]))"
   ]
  },
  {
   "cell_type": "code",
   "execution_count": 13,
   "id": "5287104d-8599-4764-8dfd-9a8806309d5e",
   "metadata": {},
   "outputs": [],
   "source": [
    "bb = (a, b, c, d)"
   ]
  },
  {
   "cell_type": "code",
   "execution_count": 14,
   "id": "f18d6ac8-2678-4530-9bf4-01d7214e218d",
   "metadata": {},
   "outputs": [],
   "source": [
    "df = df[select_within_boundingbox(df, bb)]"
   ]
  },
  {
   "cell_type": "code",
   "execution_count": 15,
   "id": "ddb39893-31d2-4238-9404-f6346070e045",
   "metadata": {},
   "outputs": [
    {
     "name": "stdout",
     "output_type": "stream",
     "text": [
      "New size 6808\n"
     ]
    }
   ],
   "source": [
    "print(\"New size {}\".format(len(df)))"
   ]
  },
  {
   "cell_type": "code",
   "execution_count": 16,
   "id": "6aee84d1-8fb8-4f17-8ba0-9f6d858bc249",
   "metadata": {},
   "outputs": [],
   "source": [
    "# Compute distance for new feature\n",
    "import numpy as np\n",
    "def distance(lat1, lon1, lat2, lon2):\n",
    "  p = 0.017453292519943295 # Pi/180\n",
    "  a = 0.5 - np.cos((lat2 - lat1) * p)/2 + np.cos(lat1 * p) * np.cos(lat2 * p) * (1 - np.cos((lon2 - lon1) * p))/2\n",
    "  return 0.6213712 * 12742 * np.arcsin(np.sqrt(a))"
   ]
  },
  {
   "cell_type": "code",
   "execution_count": 17,
   "id": "bbe757bb-7ecc-4f32-82e8-88c2f4643257",
   "metadata": {},
   "outputs": [],
   "source": [
    "df[\"distance_miles\"] = distance(df[\"pickup_latitude\"], df[\"pickup_longitude\"], \n",
    "                                      df[\"dropoff_latitude\"], df[\"dropoff_longitude\"])"
   ]
  },
  {
   "cell_type": "code",
   "execution_count": 18,
   "id": "c4bb2799-c1ad-4bd5-a061-0361c288c52c",
   "metadata": {},
   "outputs": [
    {
     "name": "stdout",
     "output_type": "stream",
     "text": [
      "Running on GPU: /physical_device:GPU:0\n"
     ]
    },
    {
     "name": "stderr",
     "output_type": "stream",
     "text": [
      "2023-02-01 07:30:01.490900: I tensorflow/core/platform/cpu_feature_guard.cc:151] This TensorFlow binary is optimized with oneAPI Deep Neural Network Library (oneDNN) to use the following CPU instructions in performance-critical operations:  AVX2 AVX512F FMA\n",
      "To enable them in other operations, rebuild TensorFlow with the appropriate compiler flags.\n",
      "2023-02-01 07:30:02.284591: I tensorflow/core/common_runtime/gpu/gpu_device.cc:1525] Created device /job:localhost/replica:0/task:0/device:GPU:0 with 30983 MB memory:  -> device: 0, name: Tesla V100-PCIE-32GB, pci bus id: 0000:86:00.0, compute capability: 7.0\n"
     ]
    },
    {
     "name": "stdout",
     "output_type": "stream",
     "text": [
      "Test set loss: 30.369\n"
     ]
    }
   ],
   "source": [
    "# Split the data into features and labels\n",
    "features = df.drop(['fare_amount','key','pickup_datetime','passenger_count'], axis=1)\n",
    "labels = df['fare_amount']\n",
    "\n",
    "# Assign GPU as the device for TensorFlow to run on\n",
    "physical_devices = tf.config.experimental.list_physical_devices('GPU')\n",
    "if len(physical_devices) > 0:\n",
    "  tf.config.experimental.set_memory_growth(physical_devices[0], True)\n",
    "  tf.config.experimental.set_visible_devices(physical_devices[0], 'GPU')\n",
    "  print(\"Running on GPU:\", physical_devices[0].name)\n",
    "else:\n",
    "  print(\"Running on CPU\")\n",
    "\n",
    "# Convert the DataFrame to a TensorFlow Dataset\n",
    "dataset = tf.data.Dataset.from_tensor_slices((features.values, labels.values))\n",
    "\n",
    "# Define the model\n",
    "model = tf.keras.Sequential([\n",
    "    tf.keras.layers.Dense(64, activation='relu', input_shape=(features.shape[1],)),\n",
    "    tf.keras.layers.Dense(64, activation='relu'),\n",
    "    tf.keras.layers.Dense(1)\n",
    "])\n",
    "\n",
    "# Compile the model\n",
    "model.compile(optimizer=tf.optimizers.Adam(), loss='mean_squared_error')\n",
    "\n",
    "# Train the model\n",
    "history = model.fit(\n",
    "    x=features, y=labels,\n",
    "    batch_size=32, epochs=100,\n",
    "    verbose=0\n",
    ")\n",
    "\n",
    "# Evaluate the model on the test data\n",
    "test_loss = model.evaluate(\n",
    "    x=features, y=labels,\n",
    "    verbose=0\n",
    ")\n",
    "\n",
    "print(\"Test set loss: {loss:0.3f}\".format(loss=test_loss))"
   ]
  },
  {
   "cell_type": "code",
   "execution_count": 19,
   "id": "4884a377-1ccc-449a-b706-59748eb30a92",
   "metadata": {},
   "outputs": [
    {
     "name": "stdout",
     "output_type": "stream",
     "text": [
      "Wed Feb  1 07:30:29 2023       \n",
      "+-----------------------------------------------------------------------------+\n",
      "| NVIDIA-SMI 460.32.03    Driver Version: 460.32.03    CUDA Version: 11.2     |\n",
      "|-------------------------------+----------------------+----------------------+\n",
      "| GPU  Name        Persistence-M| Bus-Id        Disp.A | Volatile Uncorr. ECC |\n",
      "| Fan  Temp  Perf  Pwr:Usage/Cap|         Memory-Usage | GPU-Util  Compute M. |\n",
      "|                               |                      |               MIG M. |\n",
      "|===============================+======================+======================|\n",
      "|   0  Tesla V100-PCIE...  Off  | 00000000:86:00.0 Off |                  Off |\n",
      "| N/A   51C    P0    42W / 250W |    611MiB / 32510MiB |      0%      Default |\n",
      "|                               |                      |                  N/A |\n",
      "+-------------------------------+----------------------+----------------------+\n",
      "                                                                               \n",
      "+-----------------------------------------------------------------------------+\n",
      "| Processes:                                                                  |\n",
      "|  GPU   GI   CI        PID   Type   Process name                  GPU Memory |\n",
      "|        ID   ID                                                   Usage      |\n",
      "|=============================================================================|\n",
      "+-----------------------------------------------------------------------------+\n"
     ]
    }
   ],
   "source": [
    "!nvidia-smi"
   ]
  },
  {
   "cell_type": "code",
   "execution_count": null,
   "id": "e46055f8-5228-4187-81a2-a7356756a30d",
   "metadata": {},
   "outputs": [],
   "source": []
  }
 ],
 "metadata": {
  "kernelspec": {
   "display_name": "Python 3 (ipykernel)",
   "language": "python",
   "name": "python3"
  },
  "language_info": {
   "codemirror_mode": {
    "name": "ipython",
    "version": 3
   },
   "file_extension": ".py",
   "mimetype": "text/x-python",
   "name": "python",
   "nbconvert_exporter": "python",
   "pygments_lexer": "ipython3",
   "version": "3.9.7"
  }
 },
 "nbformat": 4,
 "nbformat_minor": 5
}
